{
 "cells": [
  {
   "cell_type": "code",
   "execution_count": 1,
   "metadata": {},
   "outputs": [
    {
     "name": "stdout",
     "output_type": "stream",
     "text": [
      "Requirement already satisfied: requests-oauthlib in /Users/cmh/opt/anaconda3/lib/python3.8/site-packages (1.3.0)\n",
      "Requirement already satisfied: requests>=2.0.0 in /Users/cmh/opt/anaconda3/lib/python3.8/site-packages (from requests-oauthlib) (2.24.0)\n",
      "Requirement already satisfied: oauthlib>=3.0.0 in /Users/cmh/opt/anaconda3/lib/python3.8/site-packages (from requests-oauthlib) (3.1.0)\n",
      "Requirement already satisfied: idna<3,>=2.5 in /Users/cmh/opt/anaconda3/lib/python3.8/site-packages (from requests>=2.0.0->requests-oauthlib) (2.10)\n",
      "Requirement already satisfied: certifi>=2017.4.17 in /Users/cmh/opt/anaconda3/lib/python3.8/site-packages (from requests>=2.0.0->requests-oauthlib) (2020.12.5)\n",
      "Requirement already satisfied: urllib3!=1.25.0,!=1.25.1,<1.26,>=1.21.1 in /Users/cmh/opt/anaconda3/lib/python3.8/site-packages (from requests>=2.0.0->requests-oauthlib) (1.25.11)\n",
      "Requirement already satisfied: chardet<4,>=3.0.2 in /Users/cmh/opt/anaconda3/lib/python3.8/site-packages (from requests>=2.0.0->requests-oauthlib) (3.0.4)\n",
      "Note: you may need to restart the kernel to use updated packages.\n"
     ]
    }
   ],
   "source": [
    "pip install requests-oauthlib"
   ]
  },
  {
   "cell_type": "code",
   "execution_count": 2,
   "metadata": {},
   "outputs": [],
   "source": [
    "import tweepy\n",
    "import requests\n",
    "from dotenv import load_dotenv\n",
    "import os\n",
    "import json\n",
    "import pandas as pd\n",
    "import twitter\n"
   ]
  },
  {
   "cell_type": "code",
   "execution_count": 3,
   "metadata": {},
   "outputs": [
    {
     "data": {
      "text/plain": [
       "True"
      ]
     },
     "execution_count": 3,
     "metadata": {},
     "output_type": "execute_result"
    }
   ],
   "source": [
    "#setting up a local environment \n",
    "load_dotenv()"
   ]
  },
  {
   "cell_type": "code",
   "execution_count": 4,
   "metadata": {},
   "outputs": [],
   "source": [
    "# pulling my token from my .env \n",
    "\n",
    "consumer_key = os.getenv('twitter_api_key')\n",
    "consumer_secret_key = os.getenv('twitter_secret_key')\n",
    "access_token = os.getenv(\"twitter_access_token\")\n",
    "access_token_secret = os.getenv(\"twitter_secret_token\")\n",
    "#bearer_token =  os.getenv('twitter_bearer_token')\n",
    "\n",
    "# shows if it is pulling the keys \n",
    "type(consumer_secret_key)\n",
    "\n",
    "auth = tweepy.OAuthHandler(consumer_key, consumer_secret_key)\n",
    "auth.set_access_token(access_token, access_token_secret)\n",
    "api = tweepy.API(auth)\n"
   ]
  },
  {
   "cell_type": "code",
   "execution_count": 22,
   "metadata": {},
   "outputs": [
    {
     "name": "stdout",
     "output_type": "stream",
     "text": [
      "b'RT @michael_saylor: #Bitcoin is monetary electricity to run our economy cleaner, harder, faster, smarter, stronger, &amp; longer.'\n",
      "b'RT @CryptoBTC_Chris: Please ReTweet if you find value in my content!\\n\\n10000% Profit #Altcoin Picks!\\nThe strong #coins will bounce big!\\nEasi\\xe2\\x80\\xa6'\n"
     ]
    }
   ],
   "source": [
    "# creating a search variable \n",
    "search_terms = \"#bitcoin\"\n",
    "max_tweets = 50\n",
    "for tweet in tweepy.Cursor(api.search,q=search_terms,rpp=200).items(max_tweets):\n",
    "    print(tweet.text.encode('utf-8'))"
   ]
  },
  {
   "cell_type": "code",
   "execution_count": 9,
   "metadata": {},
   "outputs": [
    {
     "name": "stdout",
     "output_type": "stream",
     "text": [
      "b\"'Arrested Development' actor Jessica Walter dies at 80 https://t.co/qQPtNtyWIt https://t.co/QhrYREiNnM\"\n",
      "b'Former Bachelor star Ben Higgins is getting real about his addiction. https://t.co/GVdPklBhpB'\n",
      "b'USA reveals the fates of Chrisley Knows Best and Growing Up Chrisley (via @toofab)\\nhttps://t.co/lpE4zEZrPe'\n",
      "b'Virginia State Prez Dominates Student In Hoops Rematch, Hilarious Video! https://t.co/GsaSIZQYwq'\n",
      "b'Jensen Karp, the IRL husband of Topanga from Boy Meets World and the guy who went viral over his Cinnamon Toast Cru\\xe2\\x80\\xa6 https://t.co/h7QI17nCP0'\n",
      "b'\\xe2\\x80\\x9cI began traveling around and learning about the needs of the people and learning about the way animals were treate\\xe2\\x80\\xa6 https://t.co/hQc71Ak6k4'\n",
      "b'\\xf0\\x9f\\x92\\x97\\xf0\\x9f\\x92\\x97 https://t.co/U2ZrBDozni'\n",
      "b'Brandi Glanville Says Denise Richards Ignoring Her Since Alleged Fling Reveal https://t.co/aHLnTuT14h'\n",
      "b'RT @funforlouis: Please everyone stop what you\\xe2\\x80\\x99re doing and go and watch @seaspiracy on @netflix it\\xe2\\x80\\x99s powerful and shocking! https://t.co/H\\xe2\\x80\\xa6'\n",
      "b'You would love Olive! https://t.co/h5a8zxKp58'\n",
      "b'RT @ThePerezHilton: All my hair colors and fashion!! \\xf0\\x9f\\x98\\x82\\xf0\\x9f\\x98\\x82\\xf0\\x9f\\x98\\x82\\xf0\\x9f\\x98\\x82'\n",
      "b'Trade deadline passes, and Kyle Lowry remains with Raptors https://t.co/c2f0qHo6ho https://t.co/gn5HbLc0lE'\n",
      "b'.@NatGeo is now on TikTok! Our first video takes us to Costa Rica with Nat Geo Explorer and filmmaker Filipe DeAndr\\xe2\\x80\\xa6 https://t.co/Z5RE3Vvw4W'\n",
      "b'It is being treated as a hate crime (via @toofab)\\nhttps://t.co/ZHjS5RRJID'\n",
      "b'The best thing since sliced bread is sliced bread by @TheBlackBreadC0. https://t.co/ZpJ0smORD0'\n",
      "b'Jessica Walter, beloved star of Arrested Development and more, has died at age 80. Tony Hale, who played her doting\\xe2\\x80\\xa6 https://t.co/3uObEKsCz8'\n",
      "b'Vaccine distribution ramping up as 11 per cent of Canadians get first shots: feds https://t.co/AdBcl40Hvf https://t.co/W8I1B5lNy7'\n",
      "b'RT @Trendmood: Available Now! \\xf0\\x9f\\x9a\\xa8 \\xe2\\x9c\\xa8 The NEW! Collaboration \\xf0\\x9f\\x94\\xa5\\xf0\\x9f\\x98\\x8d @kkwfragrance   @kimkardashian X @kendalljenner \\nIncludes 3 new inspired by Ken\\xe2\\x80\\xa6'\n",
      "b'The future is in our hands \\xf0\\x9f\\x92\\x9c #tron #DeFi #NFT to the moon \\xf0\\x9f\\x9a\\x80 https://t.co/JNFmCxLwVA'\n",
      "b'So cute!!! I hope you enjoy these new fragrances! https://t.co/a8zuhuMjht'\n"
     ]
    }
   ],
   "source": [
    "# pulling tweets from my home timeline\n",
    "public_tweets = api.home_timeline()\n",
    "\n",
    "\n",
    "for tweet in public_tweets:\n",
    "    print(tweet.text.encode('utf-8'))"
   ]
  },
  {
   "cell_type": "code",
   "execution_count": null,
   "metadata": {},
   "outputs": [],
   "source": []
  }
 ],
 "metadata": {
  "kernelspec": {
   "display_name": "Python 3",
   "language": "python",
   "name": "python3"
  },
  "language_info": {
   "codemirror_mode": {
    "name": "ipython",
    "version": 3
   },
   "file_extension": ".py",
   "mimetype": "text/x-python",
   "name": "python",
   "nbconvert_exporter": "python",
   "pygments_lexer": "ipython3",
   "version": "3.8.2"
  }
 },
 "nbformat": 4,
 "nbformat_minor": 4
}
